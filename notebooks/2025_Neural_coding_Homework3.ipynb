{
 "cells": [
  {
   "cell_type": "markdown",
   "metadata": {},
   "source": [
    "### Homework 3"
   ]
  },
  {
   "cell_type": "markdown",
   "metadata": {},
   "source": [
    "**1.** For a constant $c$, show that $E[(s-c)^2] = (c-E[s])^2 + Var[s]$. (2 points)"
   ]
  },
  {
   "cell_type": "markdown",
   "metadata": {},
   "source": [
    "**2.** Let $X \\sim Poisson(\\lambda)$.\n",
    "\n",
    "**(a)**\n",
    "Plot in Python the probability mass function (p.m.f.) of X for λ = 1; 5; 10; 50. What do you observe\n",
    "about the shape of the p.m.f. as λ grows?\n",
    "*(1 point)*\n",
    "\n",
    "**(b)**\n",
    "What are the parameters of the best matching Normal distribution for\n",
    "a given Poisson distribution with parameter λ? No formal derivation is required here, use your intuition and verify by plotting (for the same values of\n",
    "λ as above).\n",
    "(1 point)"
   ]
  },
  {
   "cell_type": "markdown",
   "metadata": {},
   "source": [
    "**3. Noise models**\n",
    "\n",
    "Assume a tuning curve $f(s)$ with stimulus angle $s \\in [-\\pi, \\pi]$:\n",
    "$$f(s) = \\begin{cases}\n",
    "    - f_{max} \\tfrac4{\\pi^2} (s-\\tfrac\\pi2) (s + \\tfrac\\pi2) &\\quad s \\in [-\\tfrac\\pi2, \\tfrac\\pi2]\\\\\n",
    "    0 &\\quad else\n",
    "\\end{cases} $$\n",
    "In each subtask the firing rate $r$ is given by a different noise model. For a discreticed interval (50 bins) for $s$ into, draw 10 samples from $p(r|f(s))$. Do this for different $f_{max} = 1; 10; 100$, and plot the rates, their mean $\\pm$ sem (standard error of the mean), and the analytical function.\n",
    "(1.5 points for each subtask)\n",
    "\n",
    "**(a)** Additive normal noise\n",
    "$$p(r|f(s)) \\sim N(\\mu, \\sigma^2)$$\n",
    "with $\\mu=f(s)$, $\\sigma=1$.\n",
    "\n",
    "**(b)** Multiplicative normal noise\n",
    "$$p(r|f(s)) \\sim N(\\mu, \\sigma^2)$$\n",
    "with $\\mu=f(s)$, $\\sigma=f(s)$.\n",
    "\n",
    "**(c)** Poisson noise\n",
    "$$p(r|f(s)=\\frac{f(s)^r}{r!} e^{-f(s)}$$\n",
    "\n",
    "**(d)** Negative Binomial\n",
    "$$p(r|q,p)= {{r+q-1}\\choose{r}} (1-p)^q p^r$$\n",
    "with $p=\\frac{f(s)}{f(s)+q}$, $q=f(s)$.\n",
    "Be careful about the case when $p = 0$.\n",
    "\n",
    "**(e)** Based on your results, briefly discuss how realistic each of these models is. (1 point)"
   ]
  },
  {
   "cell_type": "code",
   "execution_count": null,
   "metadata": {},
   "outputs": [],
   "source": [
    "f_max_list = [1, 10, 100]\n",
    "s_interval = np.linspace(-np.pi, np.pi, 51, endpoint=True)\n",
    "n_samples = 10\n",
    "\n",
    "def tuning_function(s, f_max):\n",
    "    return"
   ]
  }
 ],
 "metadata": {
  "kernelspec": {
   "display_name": "python3",
   "language": "python",
   "name": "python3"
  }
 },
 "nbformat": 4,
 "nbformat_minor": 0
}
