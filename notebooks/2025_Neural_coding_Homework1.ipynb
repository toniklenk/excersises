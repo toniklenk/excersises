{
 "cells": [
  {
   "cell_type": "markdown",
   "metadata": {},
   "source": [
    "# Homework 1"
   ]
  },
  {
   "cell_type": "markdown",
   "metadata": {},
   "source": [
    "## IMPORTANT NOTES\n",
    "**Teams**\n",
    "- You are encouraged to work in teams of two.\n",
    "- Each team member must submit the file!\n",
    "- State that you worked as a team: in the filename and/or inside the notebook.\n",
    "\n",
    "**Submission**\n",
    "- deadline is Wednesdays 8 am (such that I can give you feedback until the tutorial)\n",
    "- extended deadline is Wednesday 4 pm (with a 25% point deduction)\n",
    "- Put your name into the file name and upload to ILIAS (each team member).\n",
    "- We recommend solving the theoretical exercises inside the notebook, which will improve your Latex skills. Alternatively, submit the theoretical exercises as pdf.\n",
    "\n",
    "**Use of LLMs**\n",
    "- you are allowed and encouraged to use LLMs (github copilot is free for students, Le Chat, ChatGPT, etc.)\n",
    "- you must edit the code! Especially, make sure\n",
    "    - you understand the code,\n",
    "    - that it's correct\n",
    "    - that it's concise\n",
    "- you are responsible for your submission\n",
    "\n",
    "**Plots**\n",
    "- plots must have every element labeled (axes, lines, dots, ...)\n",
    "- optionally, make your plots nicer: sns.despine(), ax.legend(frameon=False), etc.\n",
    "- choose a reasonable figsize (big enough to have everything visible, small enough to fit within the width of a hypothetical half or full A4 page)"
   ]
  },
  {
   "cell_type": "code",
   "execution_count": null,
   "metadata": {},
   "outputs": [],
   "source": [
    "#from IPython.display import display, Math, Latex\n",
    "\n",
    "# Libraries you might need\n",
    "from matplotlib import pyplot as plt\n",
    "%matplotlib inline\n",
    "\n",
    "import numpy as np"
   ]
  },
  {
   "cell_type": "code",
   "execution_count": null,
   "metadata": {},
   "outputs": [],
   "source": [
    "# You can use this function for plotting raster plots (spikes), or you can use your own defined function\n",
    "def raster(event_times_list, color='k', t_max=10., ax=None):\n",
    "    \"\"\"\n",
    "    Creates a raster plot\n",
    "    Parameters\n",
    "    ----------\n",
    "    event_times_list : iterable\n",
    "                       a list of event time iterables\n",
    "    color : string\n",
    "            color of vlines\n",
    "    Returns\n",
    "    -------\n",
    "    ax : an axis containing the raster plot\n",
    "    https://scimusing.wordpress.com/2013/05/06/making-raster-plots-in-python-with-matplotlib/\n",
    "    \"\"\"\n",
    "    if ax is None:\n",
    "        ax = plt.gca()\n",
    "    for ith, trial in enumerate(event_times_list):\n",
    "        ax.vlines(trial, ith + .5, ith + 1.5, color=color)\n",
    "    ax.set_ylim(.5, len(event_times_list) + .5)\n",
    "    ax.set_yticks([])\n",
    "    ax.set_ylabel('Spike train')\n",
    "    ax.set_xlim((0,t_max))\n",
    "    ax.set_xlabel('Time [s]')\n",
    "    return ax"
   ]
  },
  {
   "cell_type": "markdown",
   "metadata": {},
   "source": [
    "## Exercise 1"
   ]
  },
  {
   "cell_type": "markdown",
   "metadata": {},
   "source": [
    "1) Take interval [0,10 sec]. We will simulate spikes within this interval to form a Poisson spike train. To do so we are going to use exponenetial distribution for inter-spike intervals. First spike-time (relative to time 0) is drawn from the exponential distribution with parameter $\\tau$ , thus $t_1 \\sim Exp(\\tau) = 1/\\tau e^{-t_1/\\tau}$. All subsequent spikes are determined relative to the previous via $t_{k+1} = t_k + \\Delta t$ with $\\Delta t \\sim Exp(\\tau)$. Stop when the new spike-time exceed 10 sec. (1.5 points per each sub-task, tasks with a \"*\" give additional points)"
   ]
  },
  {
   "cell_type": "code",
   "execution_count": null,
   "metadata": {},
   "outputs": [],
   "source": [
    "def poisson_spike_train_simple(tau, length, n_trials):\n",
    "    all_spike_times = []\n",
    "    for _ in range(n_trials):\n",
    "        t = np.random.exponential(tau)\n",
    "        spike_times = []\n",
    "        while t < length:\n",
    "            spike_times = spike_times + [t]\n",
    "            t += np.random.exponential(tau)\n",
    "        all_spike_times = [*all_spike_times, spike_times]\n",
    "\n",
    "    return all_spike_times\n",
    "\n",
    "\n",
    "# test\n",
    "spike_times = poisson_spike_train_simple(.5, 10., 2)\n",
    "raster(spike_times)"
   ]
  },
  {
   "cell_type": "markdown",
   "metadata": {},
   "source": [
    "a) Plot one spike train for each of the following parameter values: $\\tau = 1$sec, $\\tau = 0.1$sec, $\\tau = 0.01$sec  "
   ]
  },
  {
   "cell_type": "code",
   "execution_count": null,
   "metadata": {},
   "outputs": [],
   "source": [
    "length = 10\n",
    "taus = [1., 0.1, 0.01]\n",
    "\n",
    "fig, axs = plt.subplots(nrows=len(taus), figsize=(10, 5), sharex=True, constrained_layout=True)\n",
    "for tau, ax in zip(taus, axs):\n",
    "    spike_times = poisson_spike_train_simple(tau, 10., 1)\n",
    "    raster(spike_times, ax=ax)\n"
   ]
  },
  {
   "cell_type": "markdown",
   "metadata": {},
   "source": [
    "b) Simulate 50.000 spike trains for each parameter in a) and compute the total number of spikes (i.e. the “spike count”) for each. Plot a histogram over the spike counts for each of the three conditions, as well as the mean and the variance (not standard deviation)."
   ]
  },
  {
   "cell_type": "code",
   "execution_count": null,
   "metadata": {},
   "outputs": [],
   "source": [
    "# b\n",
    "spike_counts = list(map(len, poisson_spike_train_simple(tau, 10.0, 1000)))\n",
    "\n",
    "length = 10\n",
    "taus = [1.0, 0.1, 0.01]\n",
    "\n",
    "fig, axs = plt.subplots(\n",
    "    ncols=len(taus), figsize=(9.9, 3.3), sharex=False, constrained_layout=True\n",
    ")\n",
    "for tau, ax in zip(taus, axs):\n",
    "    spike_counts = list(map(len, poisson_spike_train_simple(tau, length, 50000)))\n",
    "    ax.hist(spike_counts, color=\"orange\")\n",
    "    ax.axvline(np.mean(spike_counts), label=\"mean\", c=\"black\")\n",
    "    ax.axvline(\n",
    "        np.mean(spike_counts) - np.var(spike_counts), label=\"variance\", color=\"cyan\"\n",
    "    )\n",
    "    ax.axvline(np.mean(spike_counts) + np.var(spike_counts), color=\"cyan\")\n",
    "\n",
    "    ax.legend()\n",
    "    ax.set_title(f\"Tau={tau}\")"
   ]
  },
  {
   "cell_type": "code",
   "execution_count": null,
   "metadata": {},
   "outputs": [],
   "source": []
  },
  {
   "cell_type": "markdown",
   "metadata": {},
   "source": [
    "c) Draw 10.000 samples $x_k \\in \\{0, 1\\}$ independently from a Beronulli distribution $P (x_k ) = \\lambda^{x_k} (1 − \\lambda)^{1−x_k}$ with $k = 1, \\ldots , 10.000$ for the following three cases: $\\lambda = 0.1$, $\\lambda = 0.01$, $\\lambda = 0.001$. Plot the random vector $x$ as a spike train for each of the three conditions."
   ]
  },
  {
   "cell_type": "code",
   "execution_count": null,
   "metadata": {},
   "outputs": [],
   "source": [
    "def bernoulli_spike_train(p, n_samples, n_trials):\n",
    "    # TODO\n",
    "\n",
    "# ..."
   ]
  },
  {
   "cell_type": "markdown",
   "metadata": {},
   "source": [
    "d) Simulate 50.000 spike trains for each parameter in c) and compute the total number of spikes (i.e. the “spike count”) for each. Plot a histogram over the spike counts for each of the three conditions, as well as the mean and the variance.\n",
    "\n",
    "How do the results differ from those b)?"
   ]
  },
  {
   "cell_type": "code",
   "execution_count": null,
   "metadata": {},
   "outputs": [],
   "source": []
  },
  {
   "cell_type": "markdown",
   "metadata": {},
   "source": [
    "**Answer**\n",
    "TODO"
   ]
  },
  {
   "cell_type": "markdown",
   "metadata": {},
   "source": [
    "e) The cases in which the distributions in b) and d) match and disagree with each other is related to the limit cases discussed in the lecture. Under which circumstance do the Binomial distribution and the Poisson distribution match each other? Under these assumptions, proof, by taking the limit, that the probability functions are the same. (2 points)\n",
    "\n",
    "*Hint: Relate $\\lambda$, $p$, and $n$ to each other. Take the appropriate limit* $$\\lim_{\\substack{? \\to\\infty \\\\ ?\\to 0}}$$\n",
    "*and show that $P_{Bernoulli}(X=s)$ in the limit is the same as $P_{Poisson}(X=s)$.*"
   ]
  },
  {
   "cell_type": "markdown",
   "metadata": {},
   "source": [
    "**Answer**\n",
    "\n",
    "\n",
    "**Proof**\n",
    "\n"
   ]
  },
  {
   "cell_type": "markdown",
   "metadata": {},
   "source": [
    "## Exercise 2\n",
    "2) Compute the mean and variance of the Poisson distribution with parameter $\\lambda$ (first try yourself) (3 points)"
   ]
  },
  {
   "cell_type": "markdown",
   "metadata": {},
   "source": [
    "**Answer**\n",
    "\n",
    "\\begin{equation*}\n",
    "P(x = k) = \\text{Poisson}(k \\  ; \\lambda) = \\frac{\\lambda^{k} \\cdot e^{-\\lambda}}{k\\,!}\n",
    "\\end{equation*} \\\n",
    "Mean:\n",
    "\\begin{equation*}\n",
    "\\begin{split}\n",
    "E(x) & =  TODO\\\\\n",
    "&= TODO\n",
    "\\end{split}\n",
    "\\end{equation*}\n",
    "\n",
    "Variance:\n",
    "\\begin{equation*}\n",
    "\\begin{split}\n",
    "Var(x) & = TODO \\\\\n",
    "&= TODO\n",
    "\\end{split}\n",
    "\\end{equation*}\n"
   ]
  },
  {
   "cell_type": "markdown",
   "metadata": {},
   "source": [
    "## Exercise 3\n",
    "3) Show that the sum of two independent Poisson random variables of parameters $\\lambda$ and $\\mu$ is again Poisson with\n",
    "parameter $\\lambda + \\mu $. (2 points)"
   ]
  },
  {
   "cell_type": "markdown",
   "metadata": {},
   "source": [
    "If $X \\sim \\text{Poisson}(\\lambda) $ and $Y \\sim \\text{Poisson}(\\mu)$, we have:\n",
    "\\begin{equation*}\n",
    "\\begin{split}\n",
    "P(k = X + Y) & = \\sum_{i=0}^{k} P(X = i, Y = k - i) \\\\\n",
    "& = TODO\n",
    "\\end{split}\n",
    "\\end{equation*}"
   ]
  }
 ],
 "metadata": {
  "kernelspec": {
   "display_name": "python3",
   "language": "python",
   "name": "python3"
  }
 },
 "nbformat": 4,
 "nbformat_minor": 0
}
